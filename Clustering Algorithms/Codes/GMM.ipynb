{
 "cells": [
  {
   "cell_type": "code",
   "execution_count": 50,
   "metadata": {},
   "outputs": [],
   "source": [
    "import os\n",
    "import sys\n",
    "import matplotlib.pyplot as plt\n",
    "import numpy as np\n",
    "import pandas as pd\n",
    "from sklearn.decomposition import PCA\n",
    "from scipy.stats import multivariate_normal"
   ]
  },
  {
   "cell_type": "code",
   "execution_count": 51,
   "metadata": {},
   "outputs": [],
   "source": [
    "def get_k_clusters(k_value, break_count, centroids):\n",
    "    \n",
    "    size_of_label_list = adjusted_matrix.shape[0]\n",
    "    label_list = [-1 for i in range(size_of_label_list)]\n",
    "    label_list = np.asarray(label_list)\n",
    "    \n",
    "    centroids_old = np.ones(centroids.shape) * -1\n",
    "    centroids_points_indices_dict = dict()\n",
    "\n",
    "    iterations = 0\n",
    "    centroids_equal =False\n",
    "    center_list = []\n",
    "    while (centroids_equal == False) and (break_count > 0):\n",
    "        for i in range(0, size_of_label_list):\n",
    "            norm_in = centroids - adjusted_matrix[i]\n",
    "            norm_result = []\n",
    "            for j in range(norm_in.shape[0]):\n",
    "                total_sum = 0\n",
    "                square_root = 0\n",
    "                temp = []\n",
    "                temp = norm_in[j]\n",
    "                for k in range(len(temp)):\n",
    "                    temp[k] =  temp[k] * temp[k]\n",
    "                total_sum = sum(temp)\n",
    "                square_root = np.sqrt(total_sum)\n",
    "                norm_result.append(square_root)\n",
    "            label_list[i] = np.argmin(norm_result)\n",
    "        \n",
    "        np.copyto(centroids_old, centroids)\n",
    "        \n",
    "        for x in range(0, k_value):\n",
    "            centroids[x, :] = np.mean(adjusted_matrix[np.where(label_list == x)], axis=0)\n",
    "            centroids_points_indices_dict[x] = np.asarray(np.where(label_list == x)) + 1\n",
    "\n",
    "        centroids_equal = np.array_equal(centroids, centroids_old)\n",
    "        iterations = iterations + 1\n",
    "        break_count = break_count - 1\n",
    "\n",
    "    center_list = centroids \n",
    "    return [label_list, center_list]"
   ]
  },
  {
   "cell_type": "code",
   "execution_count": 63,
   "metadata": {},
   "outputs": [],
   "source": [
    "def create_clu_dict(mat,clu_dict):\n",
    "    obj = enumerate(mat)\n",
    "    for i,r in obj:\n",
    "        m_val = float('-inf')\n",
    "        clu = None\n",
    "        r_en = enumerate(r)\n",
    "        for j,c in r_en:\n",
    "            if c>m_val:\n",
    "                m_val = c\n",
    "                clu = j+1\n",
    "        if clu not in clu_dict:\n",
    "            clu_dict[clu]=[]\n",
    "        clu_dict[clu].append(data[i])\n",
    "    return clu_dict"
   ]
  },
  {
   "cell_type": "code",
   "execution_count": 53,
   "metadata": {},
   "outputs": [],
   "source": [
    "def k_means(k_value, break_count, centroids):\n",
    "    label_list, center_list = get_k_clusters(k_value, break_count, centroids)\n",
    "    return [label_list, center_list]"
   ]
  },
  {
   "cell_type": "code",
   "execution_count": 54,
   "metadata": {},
   "outputs": [],
   "source": [
    "def calculate_likelyhood(data, k, centroids, max_iter):\n",
    "    likelyhood = []\n",
    "    adjusted_matrix = data[:, 2:]\n",
    "    feature_length = len(adjusted_matrix[0])\n",
    "    temp_matrix = np.identity(feature_length)\n",
    "    sigma = 0.00001 * temp_matrix\n",
    "    \n",
    "    final_s = np.zeros((k,feature_length,feature_length),dtype='float')\n",
    "    s_len = len(final_s)\n",
    "    for i in range(s_len):\n",
    "        np.fill_diagonal(final_s[i], 1)\n",
    "        \n",
    "    prob = [1 for i in range(k)]\n",
    "    for i in range(len(prob)):\n",
    "        prob[i] = prob[i] / k\n",
    "    \n",
    "    for i in range(max_iter):\n",
    "        mat = np.zeros((data.shape[0], k))\n",
    "        \n",
    "        for m,s,p,i in zip(centroids, final_s, prob, range(k)):\n",
    "            s = s + sigma\n",
    "            multi_normal = multivariate_normal(mean=m, cov=s, allow_singular=True)\n",
    "            num = p * multi_normal.pdf(adjusted_matrix)\n",
    "            mat[:,i] = num / np.sum([clu_p * multivariate_normal(mean=clu_m,cov=clu_c, allow_singular=True).pdf(adjusted_matrix) for clu_p,clu_m,clu_c in zip(prob,centroids,final_s+sigma)],axis=0)\n",
    "\n",
    "        centroids = []\n",
    "        final_s = []\n",
    "        prob = []\n",
    "        \n",
    "        for x in range(len(mat[0])):\n",
    "            mat_c = np.sum(mat[:,x], axis=0)\n",
    "            mat_x = data[:, 2:] * mat[:, x].reshape(len(data), 1)\n",
    "            matu_c = (1/mat_c) * np.sum(mat_x, axis=0)\n",
    "            centroids.append(matu_c)\n",
    "            a = ((1 / mat_c) * np.dot((np.array(mat[:,x]).reshape(len(data), 1)*(data[:, 2:]-matu_c)).T,(data[:, 2:]-matu_c)))+sigma\n",
    "            final_s.append(a)\n",
    "            b = mat_c / np.sum(mat)\n",
    "            prob.append(b)\n",
    "\n",
    "        zz = [k*multivariate_normal(mean=centroids[i],cov=final_s[j], allow_singular=True).pdf(data[:, 2:]) for i,j in zip(range(len(centroids)),range(len(final_s)))]\n",
    "        zz_sum = np.sum(zz)\n",
    "        like_hood = np.log(zz_sum)\n",
    "        likelyhood.append(like_hood)\n",
    "    return mat"
   ]
  },
  {
   "cell_type": "code",
   "execution_count": 55,
   "metadata": {},
   "outputs": [],
   "source": [
    "def Sort(sub_li): \n",
    "    sub_li.sort(key = (lambda x: x[0]))\n",
    "    return sub_li"
   ]
  },
  {
   "cell_type": "code",
   "execution_count": 65,
   "metadata": {},
   "outputs": [],
   "source": [
    "def create_label(clu_dict):\n",
    "    label = None\n",
    "    for k, v in clu_dict.items():\n",
    "        for r in v:\n",
    "            r[1] = k\n",
    "\n",
    "        if label is not None:\n",
    "            label = np.concatenate((label, v[:,0: 2]), axis=0)\n",
    "        else:\n",
    "            label = v[:,0: 2]\n",
    "    return label"
   ]
  },
  {
   "cell_type": "code",
   "execution_count": 66,
   "metadata": {},
   "outputs": [],
   "source": [
    "def compute_similarity_coeff(label, ground_truth):\n",
    "    m11=0\n",
    "    m10=0\n",
    "    m01=0\n",
    "    m00=0\n",
    "    for i in range(0,len(ground_truth)):\n",
    "        first_ground_truth = ground_truth[i];\n",
    "        first_cluster_value = label[i];\n",
    "        \n",
    "        for j in range(1,len(ground_truth)):\n",
    "            second_ground_truth = ground_truth[j]\n",
    "            second_cluster_value = label[j]\n",
    "            ground_truth_value = (first_ground_truth == second_ground_truth)\n",
    "            cluster_similarity_value = (first_cluster_value == second_cluster_value)\n",
    "            \n",
    "            if(ground_truth_value==True and cluster_similarity_value==True):\n",
    "                m11 +=1\n",
    "            elif(ground_truth_value==True and cluster_similarity_value==False):\n",
    "                m10 +=1\n",
    "            elif(ground_truth_value==False and cluster_similarity_value==True):\n",
    "                m01 +=1\n",
    "            elif(ground_truth_value==False and cluster_similarity_value==False):\n",
    "                m00 +=1\n",
    "    \n",
    "    jacard=float(m11/(m11+m01+m10))\n",
    "    print(\"Jaccard Coefficient: \", jacard)\n",
    "    rand=float((m11+m00)/(m11+m00+m10+m01))\n",
    "    print(\"Rand Index: \", rand)"
   ]
  },
  {
   "cell_type": "code",
   "execution_count": 67,
   "metadata": {},
   "outputs": [],
   "source": [
    "def reshape_clu_dict(clu_dict):\n",
    "    for k,v in clu_dict.items():\n",
    "        clu_dict[k] = np.array(v, dtype=np.float64)\n",
    "    return clu_dict"
   ]
  },
  {
   "cell_type": "code",
   "execution_count": 68,
   "metadata": {},
   "outputs": [],
   "source": [
    "def plot_PCA(file, labels, plot_title):\n",
    "    file = open(file, 'r');\n",
    "    gene_data = file.readlines();\n",
    "    gene_row_len = len(gene_data[0].split('\\t'))\n",
    "    gene_data_matrix = [[np.float64(x) for x in line.split('\\t')] for line in gene_data]\n",
    "    gene_data_matrix = np.asarray(gene_data_matrix, dtype=float)\n",
    "    data = gene_data_matrix[:, 2:gene_row_len]\n",
    "    pca = PCA(n_components=2)\n",
    "    principalComp = pca.fit_transform(data)\n",
    "    pca_df = pd.DataFrame(data=principalComp, columns=['PC1', 'PC2'])\n",
    "    pca_df[\"label\"] = labels\n",
    "    fig = plt.figure(figsize=(8, 8))\n",
    "    ax = fig.add_subplot(1, 1, 1)\n",
    "    ax.set_xlabel('PC1', fontsize=15)\n",
    "    ax.set_ylabel('PC2', fontsize=15)\n",
    "    ax.set_title('2 component PCA', fontsize=20)\n",
    "    unique_list = []\n",
    "    for x in labels:\n",
    "        if x not in unique_list:\n",
    "            unique_list.append(x)\n",
    "    colors = ['r', 'g', 'b']\n",
    "    for target, color in zip(unique_list, colors):\n",
    "        indicesToKeep = pca_df['label'] == target\n",
    "        ax.scatter(pca_df.loc[indicesToKeep, 'PC1']\n",
    "                   , pca_df.loc[indicesToKeep, 'PC2']\n",
    "                   , c=color\n",
    "                   , s=50)\n",
    "    ax.legend(unique_list)\n",
    "    ax.set_title(plot_title)\n",
    "    ax.grid()\n",
    "    plt.show()"
   ]
  },
  {
   "cell_type": "code",
   "execution_count": 69,
   "metadata": {},
   "outputs": [],
   "source": [
    "def perform_gmm(data, k, centroids, max_iter):\n",
    "    clu_dict = dict()\n",
    "    mat = calculate_likelyhood(data, k, centroids, max_iter)\n",
    "    clu_dict = create_clu_dict(mat,clu_dict)\n",
    "    clu_dict = reshape_clu_dict(clu_dict)\n",
    "    label = create_label(clu_dict)\n",
    "    label = label.tolist()\n",
    "    label = Sort(label)\n",
    "    label = [[round(x) for x in y] for y in label]\n",
    "    label_list = []\n",
    "    for i in label:\n",
    "        label_list.append(i[1])\n",
    "    return label_list"
   ]
  },
  {
   "cell_type": "code",
   "execution_count": 71,
   "metadata": {},
   "outputs": [
    {
     "name": "stdout",
     "output_type": "stream",
     "text": [
      "Enter datafile name with extension: iyer.txt\n",
      "Enter Maximum Number of iterations: 100\n",
      "Enter number of initial centroids: 3\n",
      "Enter Centroid: 3\n",
      "Enter Centroid: 5\n",
      "Enter Centroid: 9\n",
      "[3, 5, 9]\n",
      "Jaccard Coefficient:  0.2840210008871566\n",
      "Rand Index:  0.6309207862894157\n"
     ]
    },
    {
     "data": {
      "image/png": "[encoded data removed]",
      "text/plain": [
       "<Figure size 576x576 with 1 Axes>"
      ]
     },
     "metadata": {
      "needs_background": "light"
     },
     "output_type": "display_data"
    }
   ],
   "source": [
    "file = input('Enter datafile name with extension: ')\n",
    "max_iterations = int(input('Enter Maximum Number of iterations: '))\n",
    "c = []\n",
    "number_initial_centroids = int(input('Enter number of initial centroids: '))\n",
    "for i in range(0, number_initial_centroids): \n",
    "    ele = int(input('Enter Centroid: ')) \n",
    "  \n",
    "    c.append(ele) # adding the element \n",
    "      \n",
    "print(c) \n",
    "\n",
    "data = np.loadtxt(file, dtype='float')\n",
    "adjusted_matrix = data[:, 2:]\n",
    "initial_centroid_indices = [int(centroid_index) - 1 for centroid_index in c]\n",
    "k = len(initial_centroid_indices)\n",
    "centroids = adjusted_matrix[initial_centroid_indices, :]\n",
    "cluster_id_list, centroids = k_means(k, max_iterations, centroids)\n",
    "label_list = perform_gmm(data, k, centroids, max_iterations)\n",
    "ground_truth = [item[1] for item in data]\n",
    "compute_similarity_coeff(label_list, ground_truth)\n",
    "plot_PCA(file, label_list, \"GMM Plot\")"
   ]
  },
  {
   "cell_type": "code",
   "execution_count": null,
   "metadata": {},
   "outputs": [],
   "source": []
  }
 ],
 "metadata": {
  "kernelspec": {
   "display_name": "Python 3",
   "language": "python",
   "name": "python3"
  },
  "language_info": {
   "codemirror_mode": {
    "name": "ipython",
    "version": 3
   },
   "file_extension": ".py",
   "mimetype": "text/x-python",
   "name": "python",
   "nbconvert_exporter": "python",
   "pygments_lexer": "ipython3",
   "version": "3.7.3"
  }
 },
 "nbformat": 4,
 "nbformat_minor": 2
}
