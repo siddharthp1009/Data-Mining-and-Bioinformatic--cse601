{
 "cells": [
  {
   "cell_type": "code",
   "execution_count": null,
   "metadata": {},
   "outputs": [],
   "source": [
    "from sklearn.model_selection import train_test_split ## To split the data into train and test\n",
    "from sklearn.linear_model import LogisticRegression\n",
    "import pandas as pd\n",
    "\n",
    "x_train = pd.read_csv(\"train_features.csv\",header=None)\n",
    "y_train = pd.read_csv(\"train_label.csv\",header=None)\n",
    "x_test = pd.read_csv(\"test_features.csv\",header=None)\n",
    "\n",
    "logisticRegr = LogisticRegression(max_iter=700,penalty='l1',C=7)\n",
    "\n",
    "logisticRegr.fit(x_train, y_train[1:][1])\n",
    "\n",
    "predictions = logisticRegr.predict(x_test)\n",
    "predictions = pd.DataFrame(predictions)\n",
    "predictions.to_csv(\"logistic_result.csv\")"
   ]
  }
 ],
 "metadata": {
  "kernelspec": {
   "display_name": "Python 3",
   "language": "python",
   "name": "python3"
  }
 },
 "nbformat": 4,
 "nbformat_minor": 2
}
