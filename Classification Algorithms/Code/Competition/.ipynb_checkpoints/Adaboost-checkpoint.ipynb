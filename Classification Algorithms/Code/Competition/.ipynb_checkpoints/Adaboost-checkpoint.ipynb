{
 "cells": [
  {
   "cell_type": "code",
   "execution_count": null,
   "metadata": {},
   "outputs": [],
   "source": [
    "from sklearn.ensemble import AdaBoostClassifier\n",
    "import pandas as pd\n",
    "from sklearn.model_selection import train_test_split\n",
    "from sklearn.datasets import make_classification\n",
    "\n",
    "x_train = pd.read_csv(\"train_features.csv\",header=None)\n",
    "y_train = pd.read_csv(\"train_label.csv\",header=None)\n",
    "x_test = pd.read_csv(\"test_features.csv\",header=None)\n",
    "\n",
    "\n",
    "abc = AdaBoostClassifier(n_estimators=150,\n",
    "                         learning_rate=0.01)\n",
    "model = abc.fit(x_train, y_train[1:][1])\n",
    "\n",
    "predictions = model.predict(x_test)\n",
    "predictions = pd.DataFrame(predictions)\n",
    "predictions.to_csv(\"adaboost_result.csv\")"
   ]
  }
 ],
 "metadata": {
  "kernelspec": {
   "display_name": "Python 3",
   "language": "python",
   "name": "python3"
  },
  "language_info": {
   "codemirror_mode": {
    "name": "ipython",
    "version": 3
   },
   "file_extension": ".py",
   "mimetype": "text/x-python",
   "name": "python",
   "nbconvert_exporter": "python",
   "pygments_lexer": "ipython3",
   "version": "3.7.3"
  }
 },
 "nbformat": 4,
 "nbformat_minor": 2
}
